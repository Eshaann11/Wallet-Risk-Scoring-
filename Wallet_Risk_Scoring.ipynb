{
  "nbformat": 4,
  "nbformat_minor": 0,
  "metadata": {
    "colab": {
      "provenance": []
    },
    "kernelspec": {
      "name": "python3",
      "display_name": "Python 3"
    },
    "language_info": {
      "name": "python"
    }
  },
  "cells": [
    {
      "cell_type": "code",
      "source": [
        "import pandas as pd\n",
        "import requests\n",
        "import numpy as np\n",
        "from sklearn.ensemble import IsolationForest\n",
        "\n",
        "# Load wallet list\n",
        "wallet_df = pd.read_excel(\"/content/Wallet id.xlsx\")\n",
        "wallets = wallet_df['wallet_id'].tolist()\n",
        "\n",
        "# Helper function to simulate fetching Compound data\n",
        "def fetch_compound_data(wallet_id):\n",
        "    # Replace with real query logic via The Graph or Debank\n",
        "    np.random.seed(int(wallet_id[:6], 16) % 100000)  # Seed for consistency\n",
        "    return {\n",
        "        'num_borrows': np.random.randint(0, 10),\n",
        "        'total_borrow_amount': np.random.uniform(100, 5000),\n",
        "        'num_repayments': np.random.randint(0, 10),\n",
        "        'total_repayment_amount': np.random.uniform(100, 5000),\n",
        "        'liquidation_events': np.random.randint(0, 3),\n",
        "        'max_collateral': np.random.uniform(500, 10000),\n",
        "        'avg_collateralization_ratio': np.random.uniform(1.0, 3.5),\n",
        "        'activity_days': np.random.randint(10, 400),\n",
        "    }\n",
        "\n",
        "# Step 1: Gather features\n",
        "data = []\n",
        "for wallet in wallets:\n",
        "    features = fetch_compound_data(wallet)\n",
        "    features['wallet_id'] = wallet\n",
        "    data.append(features)\n",
        "\n",
        "features_df = pd.DataFrame(data)\n",
        "\n",
        "# Step 2: Feature Engineering\n",
        "features_df['repayment_ratio'] = features_df['total_repayment_amount'] / features_df['total_borrow_amount'].replace(0, 1)\n",
        "features_df['borrow_activity_score'] = features_df['num_borrows'] / features_df['activity_days']\n",
        "features_df['liquidation_penalty'] = features_df['liquidation_events'] * 100\n",
        "\n",
        "# Step 3: Normalization\n",
        "def min_max_scale(series):\n",
        "    return (series - series.min()) / (series.max() - series.min())\n",
        "\n",
        "features_df['behavior_score'] = (\n",
        "    min_max_scale(features_df['repayment_ratio']) * 0.5 +\n",
        "    min_max_scale(features_df['borrow_activity_score']) * 0.3 -\n",
        "    min_max_scale(features_df['liquidation_penalty']) * 0.2\n",
        ")\n",
        "\n",
        "features_df['collateral_score'] = (\n",
        "    min_max_scale(features_df['max_collateral']) * 0.4 +\n",
        "    min_max_scale(features_df['avg_collateralization_ratio']) * 0.6\n",
        ")\n",
        "\n",
        "features_df['final_score'] = (\n",
        "    features_df['behavior_score'] * 0.5 +\n",
        "    features_df['collateral_score'] * 0.5\n",
        ")\n",
        "\n",
        "# Scale to 0–1000\n",
        "features_df['score'] = (features_df['final_score'] * 1000).clip(0, 1000).astype(int)\n",
        "\n",
        "# Step 4: Outlier detection (optional)\n",
        "clf = IsolationForest(contamination=0.05)\n",
        "features_df['outlier'] = clf.fit_predict(features_df[['behavior_score', 'collateral_score']])\n",
        "features_df['score'] = np.where(features_df['outlier'] == -1, features_df['score'] * 0.7, features_df['score']).astype(int)\n",
        "\n",
        "# Step 5: Save output\n",
        "output_df = features_df[['wallet_id', 'score']]\n",
        "output_df.to_csv(\"wallet_risk_scores.csv\", index=False)\n",
        "print(\"✅ Risk scores saved to wallet_risk_scores.csv\")\n"
      ],
      "metadata": {
        "colab": {
          "base_uri": "https://localhost:8080/"
        },
        "id": "yZ06Jn0ycehT",
        "outputId": "a7f67c70-2faf-4a66-d8af-24026f6e3ac6"
      },
      "execution_count": 29,
      "outputs": [
        {
          "output_type": "stream",
          "name": "stdout",
          "text": [
            "✅ Risk scores saved to wallet_risk_scores.csv\n"
          ]
        }
      ]
    },
    {
      "cell_type": "code",
      "source": [
        "wallets_df.shape"
      ],
      "metadata": {
        "colab": {
          "base_uri": "https://localhost:8080/"
        },
        "id": "R2wY0_lDbyDI",
        "outputId": "45ddfbe4-6759-4f4b-df53-47febf05f041"
      },
      "execution_count": 30,
      "outputs": [
        {
          "output_type": "execute_result",
          "data": {
            "text/plain": [
              "(103, 1)"
            ]
          },
          "metadata": {},
          "execution_count": 30
        }
      ]
    },
    {
      "cell_type": "code",
      "source": [],
      "metadata": {
        "id": "DN3tO-K6crUk"
      },
      "execution_count": null,
      "outputs": []
    }
  ]
}